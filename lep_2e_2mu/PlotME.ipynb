{
 "cells": [
  {
   "cell_type": "code",
   "execution_count": 1,
   "metadata": {},
   "outputs": [],
   "source": [
    "import numpy as np\n",
    "import jax\n",
    "import matplotlib.pyplot as plt\n",
    "\n",
    "\n",
    "from pathlib import Path\n",
    "import sys\n",
    "sys.path.append(str(Path.cwd().joinpath(\"model\")))\n",
    "\n",
    "from processes.all_processes import Matrix_1_epem_mupmum\n",
    "from model.parameters import ModelParameters\n",
    "from phase_space_generator.flat_phase_space_generator import FlatInvertiblePhasespace, LorentzVectorList, LorentzVector"
   ]
  },
  {
   "cell_type": "code",
   "execution_count": 2,
   "metadata": {},
   "outputs": [
    {
     "name": "stderr",
     "output_type": "stream",
     "text": [
      "WARNING:absl:No GPU/TPU found, falling back to CPU. (Set TF_CPP_MIN_LOG_LEVEL=0 and rerun for more info.)\n"
     ]
    }
   ],
   "source": [
    "active_model = ModelParameters(None)\n",
    "def matrix_element(x):\n",
    "    e = 90.0\n",
    "    theta = x\n",
    "\n",
    "        \n",
    "    process = Matrix_1_epem_mupmum()\n",
    "\n",
    "    \n",
    "    vectors = [\n",
    "        [e/2,0,0, e/2],\n",
    "        [e/2,0,0,-e/2],\n",
    "        [e/2, 0, e/2*jax.numpy.sin(theta), e/2*jax.numpy.cos(theta)],\n",
    "        [e/2, 0,-e/2*jax.numpy.sin(theta),-e/2*jax.numpy.cos(theta)],\n",
    "    ]\n",
    "\n",
    "    PS_point = LorentzVectorList(LorentzVector(v) for v in vectors)\n",
    "    return process.smatrix(PS_point, active_model)[0]\n",
    "\n",
    "\n",
    "matrix_element_prime = jax.grad(matrix_element)"
   ]
  },
  {
   "cell_type": "code",
   "execution_count": 3,
   "metadata": {},
   "outputs": [],
   "source": [
    "angles = np.linspace(0,np.pi)"
   ]
  },
  {
   "cell_type": "code",
   "execution_count": 4,
   "metadata": {},
   "outputs": [],
   "source": [
    "mevals = np.asarray([matrix_element(a) for a in angles])"
   ]
  },
  {
   "cell_type": "code",
   "execution_count": 5,
   "metadata": {},
   "outputs": [],
   "source": [
    "meprime = np.asarray([matrix_element_prime(a) for a in angles])"
   ]
  },
  {
   "cell_type": "code",
   "execution_count": 7,
   "metadata": {},
   "outputs": [
    {
     "data": {
      "image/png": "[encoded data removed]",
      "text/plain": [
       "<Figure size 432x288 with 1 Axes>"
      ]
     },
     "metadata": {
      "needs_background": "light"
     },
     "output_type": "display_data"
    }
   ],
   "source": [
    "every_n = 5\n",
    "plt.plot(angles,mevals,c = 'k')\n",
    "plt.quiver(\n",
    "    angles[::every_n],mevals[::every_n],np.ones_like(angles)[::every_n],meprime[::every_n],meprime[::every_n],\n",
    "    units = 'xy', angles = 'xy', zorder = 99\n",
    ")\n",
    "plt.xlabel(u'θ')\n",
    "plt.ylabel(u'|M|²');"
   ]
  }
 ],
 "metadata": {
  "kernelspec": {
   "display_name": "Python 3",
   "language": "python",
   "name": "python3"
  },
  "language_info": {
   "codemirror_mode": {
    "name": "ipython",
    "version": 3
   },
   "file_extension": ".py",
   "mimetype": "text/x-python",
   "name": "python",
   "nbconvert_exporter": "python",
   "pygments_lexer": "ipython3",
   "version": "3.7.5"
  }
 },
 "nbformat": 4,
 "nbformat_minor": 4
}
