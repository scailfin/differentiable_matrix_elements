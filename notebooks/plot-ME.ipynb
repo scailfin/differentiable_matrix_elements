{
 "cells": [
  {
   "cell_type": "code",
   "execution_count": 1,
   "metadata": {},
   "outputs": [],
   "source": [
    "import numpy as np\n",
    "import jax\n",
    "import matplotlib.pyplot as plt\n",
    "plt.rcParams.update({\"font.size\": 14})\n",
    "\n",
    "# Put module in import path\n",
    "from pathlib import Path\n",
    "import sys\n",
    "project_top_level = Path.cwd().parents[0]\n",
    "module_path = project_top_level.joinpath(\"lep_2e_2mu\")\n",
    "sys.path.insert(1, str(module_path))\n",
    "# Needed for time being as processes will import from model\n",
    "sys.path.append(str(module_path.joinpath(\"model\")))\n",
    "\n",
    "from processes.all_processes import Matrix_1_epem_mupmum\n",
    "from model.parameters import ModelParameters\n",
    "from phase_space_generator.flat_phase_space_generator import FlatInvertiblePhasespace\n",
    "from phase_space_generator.flat_phase_space_generator import LorentzVectorList\n",
    "from phase_space_generator.flat_phase_space_generator import LorentzVector"
   ]
  },
  {
   "cell_type": "code",
   "execution_count": 2,
   "metadata": {},
   "outputs": [
    {
     "name": "stderr",
     "output_type": "stream",
     "text": [
      "WARNING:absl:No GPU/TPU found, falling back to CPU. (Set TF_CPP_MIN_LOG_LEVEL=0 and rerun for more info.)\n"
     ]
    }
   ],
   "source": [
    "active_model = ModelParameters(None)\n",
    "\n",
    "\n",
    "def matrix_element(x):\n",
    "    e = 90.0\n",
    "    theta = x\n",
    "\n",
    "    process = Matrix_1_epem_mupmum()\n",
    "\n",
    "    vectors = [\n",
    "        [e / 2, 0, 0, e / 2],\n",
    "        [e / 2, 0, 0, -e / 2],\n",
    "        [e / 2, 0, e / 2 * jax.numpy.sin(theta), e / 2 * jax.numpy.cos(theta)],\n",
    "        [e / 2, 0, -e / 2 * jax.numpy.sin(theta), -e / 2 * jax.numpy.cos(theta)],\n",
    "    ]\n",
    "\n",
    "    PS_point = LorentzVectorList(LorentzVector(v) for v in vectors)\n",
    "    return process.smatrix(PS_point, active_model)[0]\n",
    "\n",
    "\n",
    "matrix_element_prime = jax.grad(matrix_element)"
   ]
  },
  {
   "cell_type": "code",
   "execution_count": 3,
   "metadata": {},
   "outputs": [],
   "source": [
    "angles = np.linspace(0, np.pi)"
   ]
  },
  {
   "cell_type": "code",
   "execution_count": 4,
   "metadata": {},
   "outputs": [],
   "source": [
    "me_vals = np.asarray([matrix_element(angle) for angle in angles])"
   ]
  },
  {
   "cell_type": "code",
   "execution_count": 5,
   "metadata": {},
   "outputs": [],
   "source": [
    "me_prime = np.asarray([matrix_element_prime(angle) for angle in angles])"
   ]
  },
  {
   "cell_type": "code",
   "execution_count": 6,
   "metadata": {},
   "outputs": [
    {
     "data": {
      "image/png": "[encoded data removed]",
      "text/plain": [
       "<Figure size 504x360 with 1 Axes>"
      ]
     },
     "metadata": {
      "needs_background": "light"
     },
     "output_type": "display_data"
    }
   ],
   "source": [
    "every_n = 5\n",
    "\n",
    "fig, ax = plt.subplots()\n",
    "fig.set_size_inches(7, 5)\n",
    "\n",
    "ax.plot(angles, me_vals, color=\"black\")\n",
    "ax.quiver(\n",
    "    angles[::every_n],\n",
    "    me_vals[::every_n],\n",
    "    np.ones_like(angles)[::every_n],\n",
    "    me_prime[::every_n],\n",
    "    me_prime[::every_n],\n",
    "    units=\"xy\",\n",
    "    angles=\"xy\",\n",
    "    zorder=99,\n",
    ")\n",
    "ax.set_xlabel(r\"$\\theta$\")\n",
    "ax.set_ylabel(r\"$|M|^{2}$\");"
   ]
  }
 ],
 "metadata": {
  "kernelspec": {
   "display_name": "Python 3",
   "language": "python",
   "name": "python3"
  },
  "language_info": {
   "codemirror_mode": {
    "name": "ipython",
    "version": 3
   },
   "file_extension": ".py",
   "mimetype": "text/x-python",
   "name": "python",
   "nbconvert_exporter": "python",
   "pygments_lexer": "ipython3",
   "version": "3.7.5"
  }
 },
 "nbformat": 4,
 "nbformat_minor": 4
}
